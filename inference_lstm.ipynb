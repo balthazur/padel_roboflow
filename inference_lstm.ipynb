{
 "cells": [
  {
   "cell_type": "code",
   "execution_count": 47,
   "metadata": {},
   "outputs": [
    {
     "name": "stdout",
     "output_type": "stream",
     "text": [
      "Inference data shape: (1454, 266)\n",
      "\u001b[1m46/46\u001b[0m \u001b[32m━━━━━━━━━━━━━━━━━━━━\u001b[0m\u001b[37m\u001b[0m \u001b[1m1s\u001b[0m 7ms/step\n",
      "Number of frames: 1460\n",
      "First 10 predictions: [0, 0, 0, 0, 0, 0, 0, 0, 0, 0]\n",
      "Last 10 predictions: [0, 0, 0, 0, 0, 0, 0, 0, 0, 0]\n",
      "Predictions saved to 'frame_predictions.txt'\n"
     ]
    }
   ],
   "source": [
    "import numpy as np\n",
    "import pandas as pd\n",
    "from tensorflow.keras.models import load_model\n",
    "from sklearn.preprocessing import StandardScaler\n",
    "\n",
    "# Load the inference data\n",
    "df_inference = pd.read_csv('padel_shots_inference_dataset.csv')\n",
    "print(\"Inference data shape:\", df_inference.shape)\n",
    "\n",
    "# Load the trained model\n",
    "model = load_model('_results/ws_7_weight_1_5/padel_model_auc_0.8696.keras')\n",
    "\n",
    "# Prepare the data for inference\n",
    "X_inference = df_inference.values  # Exclude the 'label' column\n",
    "scaler = StandardScaler()\n",
    "X_inference_scaled = scaler.fit_transform(X_inference)\n",
    "X_inference_scaled = X_inference_scaled.reshape((X_inference_scaled.shape[0], 1, X_inference_scaled.shape[1]))\n",
    "\n",
    "# Run inference\n",
    "predictions_prob = model.predict(X_inference_scaled)\n",
    "predictions = (predictions_prob > 0.6).astype(int).flatten()\n",
    "\n",
    "# Calculate the number of original frames\n",
    "# Assuming the inference dataset uses a 7-frame window and each row represents the middle frame\n",
    "num_original_frames = len(predictions) + 6\n",
    "\n",
    "# Create a list to store frame-wise predictions\n",
    "frame_predictions = [0] * num_original_frames\n",
    "\n",
    "# Map window predictions back to original frames\n",
    "for i, pred in enumerate(predictions):\n",
    "    frame_index = i + 3  # +3 because the prediction is for the middle frame of the 7-frame window\n",
    "    frame_predictions[frame_index] = pred\n",
    "\n",
    "# Fill in the first three and last three frames\n",
    "frame_predictions[0] = frame_predictions[3]\n",
    "frame_predictions[1] = frame_predictions[3]\n",
    "frame_predictions[2] = frame_predictions[3]\n",
    "frame_predictions[-3] = frame_predictions[-4]\n",
    "frame_predictions[-2] = frame_predictions[-4]\n",
    "frame_predictions[-1] = frame_predictions[-4]\n",
    "\n",
    "print(\"Number of frames:\", len(frame_predictions))\n",
    "print(\"First 10 predictions:\", frame_predictions[:10])\n",
    "print(\"Last 10 predictions:\", frame_predictions[-10:])\n",
    "\n",
    "# If you want to save the predictions to a file\n",
    "np.savetxt('frame_predictions.txt', frame_predictions, fmt='%d')\n",
    "print(\"Predictions saved to 'frame_predictions.txt'\")"
   ]
  }
 ],
 "metadata": {
  "kernelspec": {
   "display_name": "venv",
   "language": "python",
   "name": "python3"
  },
  "language_info": {
   "codemirror_mode": {
    "name": "ipython",
    "version": 3
   },
   "file_extension": ".py",
   "mimetype": "text/x-python",
   "name": "python",
   "nbconvert_exporter": "python",
   "pygments_lexer": "ipython3",
   "version": "3.10.14"
  }
 },
 "nbformat": 4,
 "nbformat_minor": 2
}
