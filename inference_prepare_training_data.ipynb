{
 "cells": [
  {
   "cell_type": "code",
   "execution_count": 26,
   "metadata": {},
   "outputs": [
    {
     "name": "stderr",
     "output_type": "stream",
     "text": [
      "INFO:__main__:Inference dataset shape: (1454, 266)\n"
     ]
    }
   ],
   "source": [
    "import pickle\n",
    "import numpy as np\n",
    "import pandas as pd\n",
    "from typing import List, Dict\n",
    "import logging\n",
    "\n",
    "logging.basicConfig(level=logging.INFO)\n",
    "logger = logging.getLogger(__name__)\n",
    "\n",
    "FRAME_WINDOW = 7\n",
    "FRAMES_BEFORE = 3\n",
    "MIDDLE_FRAME_INDEX = 3\n",
    "\n",
    "def get_bottom_left_ball(ball_data: List) -> List[float]:\n",
    "    if not ball_data:\n",
    "        return [0, 0, 0, 0]  # No ball detected, return zeros\n",
    "\n",
    "    # Ensure each bounding box data entry has exactly 4 elements (x1, y1, x2, y2)\n",
    "    processed_data = [bbox[:4] for bbox in ball_data if len(bbox) >= 4]\n",
    "\n",
    "    if not processed_data:\n",
    "        return [0, 0, 0, 0]  # Return zeros if no valid data is found\n",
    "\n",
    "    ball_array = np.array(processed_data)  # Safely convert to NumPy array now\n",
    "    ball_positions = ball_array[:, [0, 1]]  # x, y positions from [x1, y1, x2, y2]\n",
    "    bottom_left_idx = np.lexsort((-ball_positions[:, 1], ball_positions[:, 0]))[0]\n",
    "\n",
    "    return ball_data[bottom_left_idx][:4]  # Return bounding box, discard any other data\n",
    "\n",
    "def get_bottom_left_player(keypoints) -> np.ndarray:\n",
    "    if keypoints.xy.shape[0] == 0:\n",
    "        return np.zeros((17, 2))\n",
    "    \n",
    "    centers = np.mean(keypoints.xy, axis=1)\n",
    "    bottom_left_idx = np.lexsort(([-y for _, y in centers], [x for x, _ in centers]))[0]\n",
    "    \n",
    "    return keypoints.xy[bottom_left_idx]  # Return keypoints of the selected player\n",
    "\n",
    "def extract_features(all_data: Dict, frame_numbers: List[int]) -> List[float]:\n",
    "    features = []\n",
    "    for i in frame_numbers:\n",
    "        # Process pose data\n",
    "        if i in all_data['pose']:\n",
    "            keypoints = all_data['pose'][i]\n",
    "            bottom_left_keypoints = get_bottom_left_player(keypoints)\n",
    "            pose_features = bottom_left_keypoints.flatten().tolist()\n",
    "        else:\n",
    "            pose_features = [0] * (17 * 2)  # No pose data available, fill with zeros\n",
    "        \n",
    "        # Process ball data\n",
    "        if i in all_data['ball']:\n",
    "            ball_data = all_data['ball'][i]\n",
    "            ball_features = get_bottom_left_ball(ball_data)\n",
    "        else:\n",
    "            ball_features = [0] * 4  # No ball data available, fill with zeros\n",
    "        \n",
    "        features.extend(pose_features + ball_features)\n",
    "    \n",
    "    return features\n",
    "\n",
    "def generate_inference_data(all_data: Dict) -> List[List[float]]:\n",
    "    data = []\n",
    "    frame_numbers = sorted(set(all_data['pose'].keys()) | set(all_data['ball'].keys()))\n",
    "    \n",
    "    for i in range(len(frame_numbers) - FRAME_WINDOW + 1):\n",
    "        current_frames = frame_numbers[i:i+FRAME_WINDOW]\n",
    "        features = extract_features(all_data, current_frames)\n",
    "        data.append(features)\n",
    "    \n",
    "    return data\n",
    "\n",
    "# Load the inference data\n",
    "with open('inference_all_data_ex4.pkl', 'rb') as f:\n",
    "    inference_data = pickle.load(f)\n",
    "\n",
    "# Generate features for inference\n",
    "inference_features = generate_inference_data(inference_data)\n",
    "\n",
    "# Create DataFrame\n",
    "df_inference = pd.DataFrame(inference_features)\n",
    "\n",
    "# Save the DataFrame\n",
    "df_inference.to_csv('padel_shots_inference_dataset.csv', index=False)\n",
    "\n",
    "logger.info(f\"Inference dataset shape: {df_inference.shape}\")"
   ]
  },
  {
   "cell_type": "code",
   "execution_count": null,
   "metadata": {},
   "outputs": [],
   "source": []
  },
  {
   "cell_type": "code",
   "execution_count": null,
   "metadata": {},
   "outputs": [],
   "source": []
  },
  {
   "cell_type": "code",
   "execution_count": null,
   "metadata": {},
   "outputs": [],
   "source": []
  }
 ],
 "metadata": {
  "kernelspec": {
   "display_name": "venv",
   "language": "python",
   "name": "python3"
  },
  "language_info": {
   "codemirror_mode": {
    "name": "ipython",
    "version": 3
   },
   "file_extension": ".py",
   "mimetype": "text/x-python",
   "name": "python",
   "nbconvert_exporter": "python",
   "pygments_lexer": "ipython3",
   "version": "3.10.14"
  }
 },
 "nbformat": 4,
 "nbformat_minor": 2
}
