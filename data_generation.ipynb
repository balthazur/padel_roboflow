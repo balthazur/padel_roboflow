{
 "cells": [
  {
   "cell_type": "code",
   "execution_count": 1,
   "metadata": {},
   "outputs": [
    {
     "name": "stderr",
     "output_type": "stream",
     "text": [
      "SupervisionWarnings: BoundingBoxAnnotator is deprecated: `BoundingBoxAnnotator` is deprecated and has been renamed to `BoxAnnotator`. `BoundingBoxAnnotator` will be removed in supervision-0.26.0.\n"
     ]
    }
   ],
   "source": [
    "from inference import get_model\n",
    "import supervision as sv\n",
    "import os\n",
    "from pathlib import Path\n",
    "from tqdm import tqdm\n",
    "import time"
   ]
  },
  {
   "cell_type": "code",
   "execution_count": 2,
   "metadata": {},
   "outputs": [
    {
     "name": "stderr",
     "output_type": "stream",
     "text": [
      "UserWarning: Specified provider 'CUDAExecutionProvider' is not in available provider names.Available providers: 'CPUExecutionProvider'\n",
      "UserWarning: Specified provider 'OpenVINOExecutionProvider' is not in available provider names.Available providers: 'CPUExecutionProvider'\n"
     ]
    }
   ],
   "source": [
    "api_key=\"Ri8TOlA44FZ62FfabnTt\"\n",
    "# Initialize the models\n",
    "pose_model = get_model(model_id=\"yolov8x-pose-1280\", api_key=api_key)\n",
    "ball_model = get_model(model_id=\"padel_ball/3\", api_key=api_key)"
   ]
  },
  {
   "cell_type": "code",
   "execution_count": 3,
   "metadata": {},
   "outputs": [],
   "source": [
    "def process_image(image_path, model, process_type):\n",
    "    results = model.infer(str(image_path))[0]\n",
    "    \n",
    "    if process_type == 'pose':\n",
    "        return sv.KeyPoints.from_inference(results)\n",
    "    elif process_type == 'ball':\n",
    "        detections = sv.Detections.from_inference(results)\n",
    "        return [(box.tolist(), conf) for box, conf in zip(detections.xyxy, detections.confidence)]\n",
    "\n",
    "def process_folders(base_path='assets', models=None):\n",
    "    if models is None:\n",
    "        models = {'pose': pose_model, 'ball': ball_model}\n",
    "    \n",
    "    data = {model_name: {} for model_name in models}\n",
    "    \n",
    "    base_path = Path(base_path)\n",
    "    \n",
    "    # Count total PNG files in immediate subfolders\n",
    "    total_files = sum(len(list(subfolder.glob('*.png'))) \n",
    "                      for subfolder in base_path.iterdir() \n",
    "                      if subfolder.is_dir())\n",
    "    \n",
    "    print(f\"Total PNG files to process: {total_files}\")\n",
    "    \n",
    "    with tqdm(total=total_files, desc=\"Processing images\") as pbar:\n",
    "        for subfolder in base_path.iterdir():\n",
    "            if subfolder.is_dir():\n",
    "                folder_name = subfolder.name\n",
    "                for model_name in models:\n",
    "                    data[model_name][folder_name] = {}\n",
    "                \n",
    "                for png_file in subfolder.glob('*.png'):\n",
    "                    frame_number = int(png_file.stem)\n",
    "                    for model_name, model in models.items():\n",
    "                        try:\n",
    "                            results = process_image(png_file, model, model_name)\n",
    "                            data[model_name][folder_name][frame_number] = results\n",
    "                        except Exception as e:\n",
    "                            print(f\"Error processing {png_file} with {model_name} model: {str(e)}\")\n",
    "                    pbar.update(1)  # Update once per image\n",
    "    \n",
    "    return data"
   ]
  },
  {
   "cell_type": "code",
   "execution_count": 4,
   "metadata": {},
   "outputs": [
    {
     "name": "stdout",
     "output_type": "stream",
     "text": [
      "Total PNG files to process: 4320\n"
     ]
    },
    {
     "name": "stderr",
     "output_type": "stream",
     "text": [
      "Processing images: 100%|██████████| 4320/4320 [58:34<00:00,  1.23it/s] \n"
     ]
    }
   ],
   "source": [
    "# Run the processing\n",
    "all_data = process_folders()"
   ]
  },
  {
   "cell_type": "code",
   "execution_count": 5,
   "metadata": {},
   "outputs": [
    {
     "name": "stdout",
     "output_type": "stream",
     "text": [
      "pose results for folder 1:\n",
      "Number of frames processed: 1896\n",
      "Example result for frame 3975:\n",
      "KeyPoints(xy=array([[[1199.,  693.],\n",
      "        [1199.,  683.],\n",
      "        [1201.,  682.],\n",
      "        [1152.,  691.],\n",
      "        [1234.,  695.],\n",
      "        [1099.,  777.],\n",
      "        [1229.,  820.],\n",
      "        [1029.,  866.],\n",
      "        [1332.,  935.],\n",
      "        [1043.,  885.],\n",
      "        [1411.,  829.],\n",
      "        [1103., 1008.],\n",
      "        [1184., 1026.],\n",
      "        [1167., 1047.],\n",
      "        [1274., 1041.],\n",
      "        [1168., 1051.],\n",
      "        [1255., 1058.]],\n",
      "\n",
      "       [[1239.,  318.],\n",
      "        [1247.,  314.],\n",
      "        [1235.,  314.],\n",
      "        [1260.,  316.],\n",
      "        [1236.,  315.],\n",
      "        [1260.,  337.],\n",
      "        [1247.,  336.],\n",
      "        [1264.,  370.],\n",
      "        [1247.,  368.],\n",
      "        [1261.,  400.],\n",
      "        [1244.,  395.],\n",
      "        [1249.,  396.],\n",
      "        [1243.,  395.],\n",
      "        [1238.,  442.],\n",
      "        [1251.,  440.],\n",
      "        [1236.,  487.],\n",
      "        [1257.,  483.]]], dtype=float32), class_id=array([0, 0]), confidence=array([[0.08766675, 0.02586049, 0.03182   , 0.6785711 , 0.6273359 ,\n",
      "        0.99202347, 0.9949667 , 0.9689206 , 0.98933095, 0.87708485,\n",
      "        0.9553003 , 0.8128787 , 0.8332938 , 0.0386233 , 0.054295  ,\n",
      "        0.00356469, 0.00502735],\n",
      "       [0.9508958 , 0.9594281 , 0.6657306 , 0.8825253 , 0.09801301,\n",
      "        0.99138796, 0.7370311 , 0.96764624, 0.05591682, 0.9309368 ,\n",
      "        0.08225048, 0.98817503, 0.9124483 , 0.9920852 , 0.91756284,\n",
      "        0.9878511 , 0.9214543 ]], dtype=float32), data={'class_name': array(['person', 'person'], dtype='<U6')})\n",
      "\n",
      "pose results for folder 4:\n",
      "Number of frames processed: 417\n",
      "Example result for frame 348:\n",
      "KeyPoints(xy=array([[[ 95., 542.],\n",
      "        [ 89., 534.],\n",
      "        [ 91., 532.],\n",
      "        [ 24., 542.],\n",
      "        [ 72., 543.],\n",
      "        [ 13., 605.],\n",
      "        [ 60., 607.],\n",
      "        [ 28., 685.],\n",
      "        [ 80., 689.],\n",
      "        [ 75., 746.],\n",
      "        [138., 748.],\n",
      "        [ 57., 748.],\n",
      "        [ 92., 751.],\n",
      "        [113., 844.],\n",
      "        [136., 847.],\n",
      "        [131., 943.],\n",
      "        [120., 948.]]], dtype=float32), class_id=array([0]), confidence=array([[0.22255406, 0.01882863, 0.3054797 , 0.02997035, 0.81209415,\n",
      "        0.68572605, 0.99063146, 0.06525266, 0.97921276, 0.07154119,\n",
      "        0.933438  , 0.8800601 , 0.9825608 , 0.915431  , 0.99235064,\n",
      "        0.9106492 , 0.98633736]], dtype=float32), data={'class_name': array(['person'], dtype='<U6')})\n",
      "\n",
      "pose results for folder 3:\n",
      "Number of frames processed: 828\n",
      "Example result for frame 348:\n",
      "KeyPoints(xy=array([[[1192.,  345.],\n",
      "        [1192.,  342.],\n",
      "        [1193.,  342.],\n",
      "        [1183.,  343.],\n",
      "        [1209.,  344.],\n",
      "        [1166.,  370.],\n",
      "        [1220.,  371.],\n",
      "        [1158.,  405.],\n",
      "        [1228.,  407.],\n",
      "        [1159.,  433.],\n",
      "        [1222.,  434.],\n",
      "        [1171.,  440.],\n",
      "        [1208.,  440.],\n",
      "        [1163.,  491.],\n",
      "        [1204.,  490.],\n",
      "        [1154.,  542.],\n",
      "        [1200.,  540.]],\n",
      "\n",
      "       [[  42.,  471.],\n",
      "        [  39.,  463.],\n",
      "        [  30.,  465.],\n",
      "        [  17.,  472.],\n",
      "        [   4.,  476.],\n",
      "        [   8.,  527.],\n",
      "        [   8.,  531.],\n",
      "        [   8.,  593.],\n",
      "        [   8.,  599.],\n",
      "        [  35.,  644.],\n",
      "        [  39.,  645.],\n",
      "        [  13.,  653.],\n",
      "        [  10.,  656.],\n",
      "        [  16.,  741.],\n",
      "        [  16.,  743.],\n",
      "        [   7.,  829.],\n",
      "        [   5.,  833.]]], dtype=float32), class_id=array([0, 0]), confidence=array([[0.04789856, 0.02837268, 0.02070263, 0.6178213 , 0.4893355 ,\n",
      "        0.9949548 , 0.9945724 , 0.93368113, 0.930323  , 0.7316987 ,\n",
      "        0.7219218 , 0.99615824, 0.9960051 , 0.9950353 , 0.994841  ,\n",
      "        0.99155307, 0.9913373 ],\n",
      "       [0.6695869 , 0.138794  , 0.77813476, 0.00681835, 0.6097617 ,\n",
      "        0.13188669, 0.5101482 , 0.044983  , 0.5154135 , 0.12435099,\n",
      "        0.6282344 , 0.14936665, 0.32151836, 0.2194053 , 0.46026674,\n",
      "        0.27420658, 0.46348986]], dtype=float32), data={'class_name': array(['person', 'person'], dtype='<U6')})\n",
      "\n",
      "pose results for folder 2:\n",
      "Number of frames processed: 1179\n",
      "Example result for frame 348:\n",
      "KeyPoints(xy=array([[[1461.,  512.],\n",
      "        [1467.,  503.],\n",
      "        [1473.,  502.],\n",
      "        [1488.,  515.],\n",
      "        [1513.,  510.],\n",
      "        [1509.,  582.],\n",
      "        [1514.,  565.],\n",
      "        [1489.,  675.],\n",
      "        [1496.,  635.],\n",
      "        [1448.,  701.],\n",
      "        [1452.,  656.],\n",
      "        [1513.,  729.],\n",
      "        [1503.,  715.],\n",
      "        [1483.,  845.],\n",
      "        [1462.,  812.],\n",
      "        [1497.,  946.],\n",
      "        [1462.,  887.]],\n",
      "\n",
      "       [[ 632.,  405.],\n",
      "        [ 629.,  401.],\n",
      "        [ 629.,  401.],\n",
      "        [ 601.,  405.],\n",
      "        [ 619.,  408.],\n",
      "        [ 613.,  429.],\n",
      "        [ 606.,  441.],\n",
      "        [ 657.,  439.],\n",
      "        [ 609.,  477.],\n",
      "        [ 665.,  422.],\n",
      "        [ 644.,  464.],\n",
      "        [ 619.,  506.],\n",
      "        [ 617.,  512.],\n",
      "        [ 651.,  547.],\n",
      "        [ 670.,  553.],\n",
      "        [ 630.,  587.],\n",
      "        [ 660.,  605.]]], dtype=float32), class_id=array([0, 0]), confidence=array([[0.37503594, 0.4337621 , 0.02314949, 0.90763557, 0.02153444,\n",
      "        0.997447  , 0.97618175, 0.9942974 , 0.76481223, 0.9817261 ,\n",
      "        0.7305924 , 0.9974034 , 0.9920956 , 0.998391  , 0.99346304,\n",
      "        0.99432343, 0.98373586],\n",
      "       [0.1040307 , 0.01512203, 0.06826401, 0.06513035, 0.5063593 ,\n",
      "        0.9726144 , 0.9938764 , 0.94958264, 0.9956801 , 0.95057786,\n",
      "        0.99209225, 0.99080783, 0.9957563 , 0.9785968 , 0.9922042 ,\n",
      "        0.91979754, 0.9626553 ]], dtype=float32), data={'class_name': array(['person', 'person'], dtype='<U6')})\n",
      "\n",
      "ball results for folder 1:\n",
      "Number of frames processed: 1896\n",
      "Example result for frame 3975:\n",
      "[]\n",
      "\n",
      "ball results for folder 4:\n",
      "Number of frames processed: 417\n",
      "Example result for frame 348:\n",
      "[([1523.0, 424.0, 1542.0, 444.0], 0.5258436799049377)]\n",
      "\n",
      "ball results for folder 3:\n",
      "Number of frames processed: 828\n",
      "Example result for frame 348:\n",
      "[]\n",
      "\n",
      "ball results for folder 2:\n",
      "Number of frames processed: 1179\n",
      "Example result for frame 348:\n",
      "[]\n",
      "\n"
     ]
    }
   ],
   "source": [
    "# Example of how to access the data:\n",
    "# all_data['pose']['1'][713] would give you the pose keypoints for frame 713 in folder 1\n",
    "# all_data['ball']['1'][713] would give you the ball bounding boxes and confidences for frame 713 in folder 1\n",
    "\n",
    "# Print some results to verify\n",
    "for model_name in all_data:\n",
    "    for folder in all_data[model_name]:\n",
    "        print(f\"{model_name} results for folder {folder}:\")\n",
    "        print(f\"Number of frames processed: {len(all_data[model_name][folder])}\")\n",
    "        if all_data[model_name][folder]:\n",
    "            first_frame = next(iter(all_data[model_name][folder]))\n",
    "            print(f\"Example result for frame {first_frame}:\")\n",
    "            print(all_data[model_name][folder][first_frame])\n",
    "        print()"
   ]
  },
  {
   "cell_type": "code",
   "execution_count": 6,
   "metadata": {},
   "outputs": [],
   "source": [
    "import pickle\n",
    "def save_data(data, filename):\n",
    "    with open(filename, 'wb') as f:\n",
    "        pickle.dump(data, f)\n",
    "    print(f\"Data saved to {filename}\")\n",
    "\n",
    "def load_data(filename):\n",
    "    with open(filename, 'rb') as f:\n",
    "        data = pickle.load(f)\n",
    "    print(f\"Data loaded from {filename}\")\n",
    "    return data"
   ]
  },
  {
   "cell_type": "code",
   "execution_count": 13,
   "metadata": {},
   "outputs": [
    {
     "name": "stdout",
     "output_type": "stream",
     "text": [
      "Data saved to all_data.pkl\n"
     ]
    }
   ],
   "source": [
    "\n",
    "# Save the data\n",
    "save_data(all_data, 'all_data.pkl')"
   ]
  },
  {
   "cell_type": "code",
   "execution_count": 14,
   "metadata": {},
   "outputs": [
    {
     "name": "stdout",
     "output_type": "stream",
     "text": [
      "Data loaded from all_data.pkl\n",
      "Data saved to all_data.pkl\n"
     ]
    }
   ],
   "source": [
    "copy = load_data('all_data.pkl')\n",
    "# remove folder \"4 from all_data ball and pose\n",
    "del copy['ball']['4']\n",
    "del copy['pose']['4']\n",
    "# Save the data\n",
    "save_data(copy, 'all_data.pkl')\n",
    "\n"
   ]
  }
 ],
 "metadata": {
  "kernelspec": {
   "display_name": "venv",
   "language": "python",
   "name": "python3"
  },
  "language_info": {
   "codemirror_mode": {
    "name": "ipython",
    "version": 3
   },
   "file_extension": ".py",
   "mimetype": "text/x-python",
   "name": "python",
   "nbconvert_exporter": "python",
   "pygments_lexer": "ipython3",
   "version": "3.10.14"
  }
 },
 "nbformat": 4,
 "nbformat_minor": 2
}
